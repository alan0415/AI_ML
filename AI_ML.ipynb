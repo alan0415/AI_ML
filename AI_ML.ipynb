{
 "cells": [
  {
   "cell_type": "markdown",
   "metadata": {},
   "source": [
    "## 專案構想\n",
    "希望利用上課的時候學到的詞袋模型做出簡易的詞類分析，分析網路社群媒體的用字遣詞習慣。\n",
    "分析的目的是希望能輔助大量爬文的時候，快速分析出一篇文章內文主題，有提到哪些符合我們這次爬文想得到的細節。"
   ]
  },
  {
   "cell_type": "markdown",
   "metadata": {},
   "source": [
    "首先我們先透過爬蟲的方式，取得CNN網路上的某一篇報導的全文"
   ]
  },
  {
   "cell_type": "code",
   "execution_count": 1,
   "metadata": {},
   "outputs": [
    {
     "name": "stdout",
     "output_type": "stream",
     "text": [
      "(CNN)Summer break? Ha.\n",
      "Imagine how it felt for the Trump administration.\n",
      "Last month, we documented how the White House and President Donald Trump's Cabinet have been working hard to reshape the federal government while everyone else has been focused on the interwoven staffing dramas, personal betrayals, diplomatic foibles, guilty pleas and guilty verdicts that have hurtled around Trump's nucleus. Not to mention the forced separation of families at the border, a crisis that remains unresolved despite months of court orders.\n",
      "It's hard to look away from a train wreck. It's impossible to look away from successive wrecks.\n",
      "That's what this summer, from Memorial Day until almost Labor Day, has felt like after the high note of a successful North Korea summit through a disastrous meeting with Russian President Vladimir Putin to Trump's betrayal by former aides and the dramas du jour in between. It's enough to make you forget, for a moment, that the President is on the cusp of getting a second justice on the Supreme Court.\n",
      "Here are some of the key moments from a summer that included no break:\n",
      "North Korea talks stall after summit\n",
      "The summer actually started off pretty well for Trump when he upended decades of foreign policy and met June 12 with North Korean dictator Kim Jong Un. It was controversial, sure -- everything he does is controversial -- but it showed a Trump in control, shaking things up like he promised, and moving, he said, away from a nuclear North Korea. Trump's declarations that North Korea was no longer a nuclear threat, issued immediately on Twitter upon his return to the US, have proved premature, however, as talks led by Secretary of State Mike Pompeo to agree with North Koreans on details of an agreement have stalled. Trump canceled a planned Pompeo trip to North Korea on Aug. 24.\n",
      "A moment of weakness makes Putin look strong in Helsinki\n",
      "When Trump stood next to Putin on July 16, he could have stood up for US intelligence officials, who have long unanimously said Russia actively interfered in the 2016 US election. But Trump won that election, so he's been loath to accept anything that questions it. Particularly when there's an ongoing investigation (he calls it a witch hunt) into whether his campaign colluded with Russians. So Trump seemed to side with Putin while he was standing next to the Russian leader, instead of his own government. It was a moment that gobsmacked the international community.\n",
      "While Trump was busy trying to clean up in the days that followed, Putin's Kremlin started referring to military agreements he'd made during their private conversation. The Pentagon was caught unaware. You might ask yourself why in the midst of the Russia investigation Trump was meeting with the Russian leader. That's a valid question, particularly since Trump invited the meeting. It's hard to find anyone who says Putin didn't emerge with the upper hand.\n",
      "A self-inflicted immigration crisis that took children from their parents\n",
      "The dramas of the Trump administration commanded headlines, but at points they gave way to the real policy problem that resulted in the US government taking undocumented immigrant children from their parents at the border. The \"zero tolerance\" policy was announced by the administration earlier in the year as a further deterrent to illegal immigration. Its scope led to a genuine and bipartisan public outcry over the summer, however, as it became clear that young children were being taken from their parents for what US law considers a misdemeanor crime. A series of legal cases ensued. The administration has yet to return all of the separated children to their parents.\n",
      "Michael Cohen pleads guilty, implicates Trump\n",
      "Once Trump's confidant, lawyer and fixer, Michael Cohen is now more likely to be called \"RAT\" by his former boss, who prizes loyalty above all else. Cohen said last week in court that Trump had directed him to engineer payments to hush up a former Playboy model and former porn star just before the election. Both alleged they had affairs with the now-President years earlier. He denies those allegations, but there's tape of him talking about at least one of the payoffs with Cohen.\n",
      "That Trump's good friend David Pecker, CEO of the company that owns the National Enquirer, which sat on the story about Playboy model Karen McDougal's alleged affair, and the CFO of the Trump organization were given immunity for the Cohen investigation makes the possibility of further legal action all the more frightening for the President. It was after the Cohen allegations that Trump took part in a federal crime that people again started talking about the possibility of impeachment. That kind of action still seems unlikely, to say the least. But being implicated as an unindicted co-conspirator in a federal crime is never a good thing for a President.\n",
      "Paul Manafort found guilty, won't flip\n",
      "The Russia investigation continues, but special counsel Robert Mueller got his first conviction when Paul Manafort, the former Trump campaign chief, was convicted last week in a Virginia federal court on eight of 18 counts of tax and bank fraud. There's another Manafort trial coming in DC in September. The Virginia court, remember, is the one Manafort's attorneys were hoping would be friendlier. Trump's lawyers have repeatedly demanded that Mueller wrap up his investigation before the November election. But Mueller recently asked a federal judge for more time to work with the cooperating Michael Flynn. And Manafort's second trial has yet to start. Which makes it seem like Mueller will not be rushed, much to Trump's frustration at what he continues to attack as a \"witch hunt.\" It's a witch hunt with a growing number of guilty pleas and now guilty verdicts.\n",
      "Pardons and commutations\n",
      "Another drama involving another Kim. Kardashian. She was lobbying Trump to commute the sentence of a nonviolent drug offender named Alice Marie Johnson. Trump ultimately did so in June, and he also pardoned Dinesh D'Souza. His enjoyment of pardoning is clear and it's led to a lot of supposition he could pardon people targeted by the Mueller probe who he thinks stay loyal. See above: Manafort, Paul, who has since been convicted of eight counts of tax and bank fraud, crimes unrelated to Trump. But Manafort has yet to cooperate with Mueller.\n",
      "Scott Pruitt stayed in office much longer than he should have\n",
      "Now-former Environmental Protection Agency Administrator Pruitt resigned in July, but the pressure had been building on Trump to sack him for months. Throughout the spring, there was an almost unbelievable string of ethical questions about the strident and unapologetic EPA chief, who saw his role as Trump's unwinder of Obama-era environmental policy as a steppingstone to greater things in Washington with some personal perks along the way. That he survived most of the year is a testament to the impression he was effective at rolling back Obama-era policy, although his replacement has shown himself equal to the task of carrying on; the administration unveiled new coal-friendly policies in August.\n",
      "Tariffs and trade wars\n",
      "Unlike these other items, Trump has invited fights with other countries on trade and extols his policy of tariffs as he withdraws the US from multilateral trade agreements and seeks out unilateral ones. Those talks, for the most part, have not yet borne a signature deal, but the tariffs he hopes will jolt other countries to the negotiating table have certainly woken everyone up. The highest stakes trade standoff is likely with China.\n",
      "Trump's tariffs have not led to marked spikes in US costs, but the government has had to step in to help certain farmers hurt by retaliations. And there are reports of administration officials, particularly from South Carolina, seeking special exemptions for home state businesses. This is a long game, but the anger of US allies in Europe, Mexico and Canada was pronounced this summer. Canadian Prime Minister Justin Trudeau got into a notable spat with Trump about whether Canada is a security risk. This kind of tension with Canada hasn't been seen in generations. Consequences of the brewing trade war with China will become clearer with time.\n",
      "McCain's farewell\n",
      "Trump has built his political career on being a Washington outsider, but the aftermath of Sen. John McCain's death a week ago has shown just how isolated the President can get from the old mainstream of US politics. He was ostracized from McCain's memorial in favor of former Presidents Barack Obama and George W. Bush, both of whom Trump has tried to oppose. The outpouring of respect for McCain, who stood up to Trump on health care and foreign policy, is a testament to the fact that while the President controls the current-day GOP, it is a situational and probably temporary control born of the force of his power with his united political base and not the love and respect of other GOP leaders.\n",
      "Now on to the fall and the midterms\n",
      "There's plenty more where this came from. The evolution of Omarosa Manigault Newman from fired White House staffer to vocal member of the resistance with an ax to grind and books to sell. The emergence of Rudy Giuliani as Trump's top legal spokesman and his often head-scratching talk show strategy. There are also high points. The US economy continues to roar. Brett Kavanaugh will be a more controversial nominee than Neil Gorsuch, but he seems likely to be confirmed to the Supreme Court.\n",
      "But the hard headlines of the summer will lead into the midterm elections this fall and Trump, who has promised an all-out blitz of campaign events, will have to do everything in his power to get out Republican voters. As difficult as this summer has been for him, it could have been much worse if he were looking at Democrats in control of the House or the Senate.\n",
      "\n"
     ]
    }
   ],
   "source": [
    "from requests_html import HTMLSession\n",
    "session = HTMLSession()\n",
    "response = session.get('https://edition.cnn.com/2018/09/01/politics/trump-administration-summer-hell-drama-key-moments/index.html')\n",
    "elements = response.html.find('.zn-body__paragraph')\n",
    "article = []\n",
    "for element in elements:\n",
    "    article.append(element.text)\n",
    "    print(element.text)"
   ]
  },
  {
   "cell_type": "code",
   "execution_count": null,
   "metadata": {},
   "outputs": [],
   "source": [
    "接著套用詞袋模型分類，找出文章中使用過的詞語"
   ]
  },
  {
   "cell_type": "code",
   "execution_count": 4,
   "metadata": {},
   "outputs": [
    {
     "name": "stdout",
     "output_type": "stream",
     "text": [
      "['12', '16', '18', '2016', '24', 'about', 'above', 'accept', 'action', 'actively', 'actually', 'administration', 'administrator', 'affair', 'affairs', 'after', 'aftermath', 'again', 'agency', 'ago', 'agree', 'agreement', 'agreements', 'aides', 'alice', 'all', 'allegations', 'alleged', 'allies', 'almost', 'along', 'also', 'although', 'an', 'and', 'anger', 'announced', 'another', 'anyone', 'anything', 'are', 'around', 'as', 'ask', 'asked', 'at', 'attack', 'attorneys', 'aug', 'august', 'away', 'ax', 'back', 'bank', 'barack', 'base', 'be', 'became', 'become', 'been', 'before', 'being', 'betrayal', 'betrayals', 'between', 'bipartisan', 'blitz', 'books', 'border', 'born', 'borne', 'boss', 'both', 'break', 'brett', 'brewing', 'building', 'built', 'bush', 'businesses', 'busy', 'but', 'by', 'cabinet', 'called', 'calls', 'came', 'campaign', 'can', 'canada', 'canadian', 'canceled', 'care', 'career', 'carolina', 'carrying', 'cases', 'caught', 'ceo', 'certain', 'certainly', 'cfo', 'chief', 'children', 'china', 'clean', 'clear', 'clearer', 'cnn', 'co', 'coal', 'cohen', 'colluded', 'coming', 'commanded', 'community', 'commutations', 'commute', 'company', 'confidant', 'confirmed', 'consequences', 'considers', 'conspirator', 'continues', 'control', 'controls', 'controversial', 'conversation', 'convicted', 'conviction', 'cooperate', 'cooperating', 'costs', 'could', 'counsel', 'countries', 'counts', 'court', 'crime', 'crimes', 'crisis', 'current', 'cusp', 'david', 'day', 'days', 'dc', 'deal', 'death', 'decades', 'declarations', 'demanded', 'democrats', 'denies', 'despite', 'details', 'deterrent', 'dictator', 'did', 'didn', 'difficult', 'dinesh', 'diplomatic', 'directed', 'disastrous', 'do', 'documented', 'does', 'donald', 'drama', 'dramas', 'drug', 'du', 'during', 'earlier', 'economy', 'effective', 'eight', 'election', 'elections', 'else', 'emerge', 'emergence', 'engineer', 'enjoyment', 'enough', 'enquirer', 'ensued', 'environmental', 'epa', 'equal', 'era', 'ethical', 'europe', 'events', 'everyone', 'everything', 'evolution', 'exemptions', 'extols', 'fact', 'fall', 'families', 'farewell', 'farmers', 'favor', 'federal', 'felt', 'fights', 'find', 'fired', 'first', 'fixer', 'flip', 'flynn', 'focused', 'foibles', 'followed', 'for', 'force', 'forced', 'foreign', 'forget', 'former', 'found', 'fraud', 'friend', 'friendlier', 'friendly', 'frightening', 'from', 'frustration', 'further', 'game', 'gave', 'generations', 'genuine', 'george', 'get', 'getting', 'giuliani', 'given', 'gobsmacked', 'good', 'gop', 'gorsuch', 'got', 'government', 'greater', 'grind', 'growing', 'guilty', 'ha', 'had', 'hand', 'hard', 'has', 'hasn', 'have', 'he', 'head', 'headlines', 'health', 'help', 'helsinki', 'here', 'high', 'highest', 'him', 'himself', 'his', 'home', 'hopes', 'hoping', 'house', 'how', 'however', 'hunt', 'hurt', 'hurtled', 'hush', 'if', 'illegal', 'imagine', 'immediately', 'immigrant', 'immigration', 'immunity', 'impeachment', 'implicated', 'implicates', 'impossible', 'impression', 'in', 'included', 'inflicted', 'instead', 'intelligence', 'interfered', 'international', 'interwoven', 'into', 'investigation', 'invited', 'involving', 'is', 'isolated', 'issued', 'it', 'items', 'its', 'john', 'johnson', 'jolt', 'jong', 'jour', 'judge', 'july', 'june', 'just', 'justice', 'justin', 'kardashian', 'karen', 'kavanaugh', 'key', 'kim', 'kind', 'korea', 'korean', 'koreans', 'kremlin', 'labor', 'last', 'law', 'lawyer', 'lawyers', 'lead', 'leader', 'leaders', 'least', 'led', 'legal', 'like', 'likely', 'loath', 'lobbying', 'long', 'longer', 'look', 'looking', 'lot', 'love', 'loyal', 'loyalty', 'made', 'mainstream', 'make', 'makes', 'manafort', 'manigault', 'marie', 'marked', 'mccain', 'mcdougal', 'meeting', 'member', 'memorial', 'mention', 'met', 'mexico', 'michael', 'midst', 'midterm', 'midterms', 'might', 'mike', 'military', 'minister', 'misdemeanor', 'model', 'moment', 'moments', 'month', 'months', 'more', 'most', 'moving', 'much', 'mueller', 'multilateral', 'named', 'national', 'negotiating', 'neil', 'never', 'new', 'newman', 'next', 'no', 'nominee', 'nonviolent', 'north', 'not', 'notable', 'note', 'november', 'now', 'nuclear', 'nucleus', 'number', 'obama', 'of', 'off', 'offender', 'office', 'officials', 'often', 'old', 'omarosa', 'on', 'once', 'one', 'ones', 'ongoing', 'oppose', 'or', 'orders', 'organization', 'ostracized', 'other', 'out', 'outcry', 'outpouring', 'outsider', 'over', 'own', 'owns', 'pardon', 'pardoned', 'pardoning', 'pardons', 'parents', 'part', 'particularly', 'paul', 'payments', 'payoffs', 'pecker', 'pentagon', 'people', 'perks', 'personal', 'planned', 'playboy', 'pleads', 'pleas', 'plenty', 'points', 'policies', 'policy', 'political', 'politics', 'pompeo', 'porn', 'possibility', 'power', 'premature', 'president', 'presidents', 'pressure', 'pretty', 'prime', 'private', 'prizes', 'probably', 'probe', 'problem', 'promised', 'pronounced', 'protection', 'proved', 'pruitt', 'public', 'putin', 'question', 'questions', 'rat', 'real', 'recently', 'referring', 'remains', 'remember', 'repeatedly', 'replacement', 'reports', 'republican', 'reshape', 'resigned', 'resistance', 'respect', 'resulted', 'retaliations', 'return', 'risk', 'roar', 'robert', 'role', 'rolling', 'rudy', 'rushed', 'russia', 'russian', 'russians', 'sack', 'said', 'sat', 'saw', 'say', 'says', 'scope', 'scott', 'scratching', 'second', 'secretary', 'security', 'see', 'seeking', 'seeks', 'seem', 'seemed', 'seems', 'seen', 'self', 'sell', 'sen', 'senate', 'sentence', 'separated', 'separation', 'september', 'series', 'shaking', 'she', 'should', 'show', 'showed', 'shown', 'side', 'signature', 'since', 'situational', 'so', 'some', 'south', 'souza', 'spat', 'special', 'spikes', 'spokesman', 'spring', 'staffer', 'staffing', 'stakes', 'stall', 'stalled', 'standing', 'standoff', 'star', 'start', 'started', 'state', 'stay', 'stayed', 'step', 'steppingstone', 'still', 'stood', 'story', 'strategy', 'strident', 'string', 'strong', 'successful', 'successive', 'summer', 'summit', 'supposition', 'supreme', 'sure', 'survived', 'table', 'taken', 'taking', 'talk', 'talking', 'talks', 'tape', 'targeted', 'tariffs', 'task', 'tax', 'temporary', 'tension', 'testament', 'than', 'that', 'the', 'their', 'there', 'these', 'they', 'thing', 'things', 'thinks', 'this', 'those', 'threat', 'through', 'throughout', 'time', 'to', 'tolerance', 'took', 'top', 'trade', 'train', 'trial', 'tried', 'trip', 'trudeau', 'trump', 'trying', 'twitter', 'ultimately', 'un', 'unanimously', 'unapologetic', 'unaware', 'unbelievable', 'undocumented', 'unilateral', 'unindicted', 'united', 'unlike', 'unlikely', 'unrelated', 'unresolved', 'until', 'unveiled', 'unwinder', 'up', 'upended', 'upon', 'upper', 'us', 'valid', 'verdicts', 'virginia', 'vladimir', 'vocal', 'voters', 'war', 'wars', 'was', 'washington', 'way', 'we', 'weakness', 'week', 'well', 'were', 'what', 'when', 'where', 'whether', 'which', 'while', 'white', 'who', 'whom', 'why', 'will', 'witch', 'with', 'withdraws', 'woken', 'won', 'work', 'working', 'worse', 'would', 'wrap', 'wreck', 'wrecks', 'year', 'years', 'yet', 'you', 'young', 'yourself', 'zero']\n"
     ]
    }
   ],
   "source": [
    "from sklearn.feature_extraction.text import CountVectorizer\n",
    "\n",
    "vectorizer = CountVectorizer(min_df=1)\n",
    "X = vectorizer.fit_transform(article)\n",
    "feature_name = vectorizer.get_feature_names()\n",
    "\n",
    "print(feature_name)\n"
   ]
  },
  {
   "cell_type": "code",
   "execution_count": null,
   "metadata": {},
   "outputs": [],
   "source": [
    "對應到不同單詞的出現次數"
   ]
  },
  {
   "cell_type": "code",
   "execution_count": 35,
   "metadata": {},
   "outputs": [
    {
     "name": "stdout",
     "output_type": "stream",
     "text": [
      "['12', '16', '18', '2016', '24', 'about', 'above', 'accept', 'action', 'actively', 'actually', 'administration', 'administrator', 'affair', 'affairs', 'after', 'aftermath', 'again', 'agency', 'ago', 'agree', 'agreement', 'agreements', 'aides', 'alice', 'all', 'allegations', 'alleged', 'allies', 'almost', 'along', 'also', 'although', 'an', 'and', 'anger', 'announced', 'another', 'anyone', 'anything', 'are', 'around', 'as', 'ask', 'asked', 'at', 'attack', 'attorneys', 'aug', 'august', 'away', 'ax', 'back', 'bank', 'barack', 'base', 'be', 'became', 'become', 'been', 'before', 'being', 'betrayal', 'betrayals', 'between', 'bipartisan', 'blitz', 'books', 'border', 'born', 'borne', 'boss', 'both', 'break', 'brett', 'brewing', 'building', 'built', 'bush', 'businesses', 'busy', 'but', 'by', 'cabinet', 'called', 'calls', 'came', 'campaign', 'can', 'canada', 'canadian', 'canceled', 'care', 'career', 'carolina', 'carrying', 'cases', 'caught', 'ceo', 'certain', 'certainly', 'cfo', 'chief', 'children', 'china', 'clean', 'clear', 'clearer', 'cnn', 'co', 'coal', 'cohen', 'colluded', 'coming', 'commanded', 'community', 'commutations', 'commute', 'company', 'confidant', 'confirmed', 'consequences', 'considers', 'conspirator', 'continues', 'control', 'controls', 'controversial', 'conversation', 'convicted', 'conviction', 'cooperate', 'cooperating', 'costs', 'could', 'counsel', 'countries', 'counts', 'court', 'crime', 'crimes', 'crisis', 'current', 'cusp', 'david', 'day', 'days', 'dc', 'deal', 'death', 'decades', 'declarations', 'demanded', 'democrats', 'denies', 'despite', 'details', 'deterrent', 'dictator', 'did', 'didn', 'difficult', 'dinesh', 'diplomatic', 'directed', 'disastrous', 'do', 'documented', 'does', 'donald', 'drama', 'dramas', 'drug', 'du', 'during', 'earlier', 'economy', 'effective', 'eight', 'election', 'elections', 'else', 'emerge', 'emergence', 'engineer', 'enjoyment', 'enough', 'enquirer', 'ensued', 'environmental', 'epa', 'equal', 'era', 'ethical', 'europe', 'events', 'everyone', 'everything', 'evolution', 'exemptions', 'extols', 'fact', 'fall', 'families', 'farewell', 'farmers', 'favor', 'federal', 'felt', 'fights', 'find', 'fired', 'first', 'fixer', 'flip', 'flynn', 'focused', 'foibles', 'followed', 'for', 'force', 'forced', 'foreign', 'forget', 'former', 'found', 'fraud', 'friend', 'friendlier', 'friendly', 'frightening', 'from', 'frustration', 'further', 'game', 'gave', 'generations', 'genuine', 'george', 'get', 'getting', 'giuliani', 'given', 'gobsmacked', 'good', 'gop', 'gorsuch', 'got', 'government', 'greater', 'grind', 'growing', 'guilty', 'ha', 'had', 'hand', 'hard', 'has', 'hasn', 'have', 'he', 'head', 'headlines', 'health', 'help', 'helsinki', 'here', 'high', 'highest', 'him', 'himself', 'his', 'home', 'hopes', 'hoping', 'house', 'how', 'however', 'hunt', 'hurt', 'hurtled', 'hush', 'if', 'illegal', 'imagine', 'immediately', 'immigrant', 'immigration', 'immunity', 'impeachment', 'implicated', 'implicates', 'impossible', 'impression', 'in', 'included', 'inflicted', 'instead', 'intelligence', 'interfered', 'international', 'interwoven', 'into', 'investigation', 'invited', 'involving', 'is', 'isolated', 'issued', 'it', 'items', 'its', 'john', 'johnson', 'jolt', 'jong', 'jour', 'judge', 'july', 'june', 'just', 'justice', 'justin', 'kardashian', 'karen', 'kavanaugh', 'key', 'kim', 'kind', 'korea', 'korean', 'koreans', 'kremlin', 'labor', 'last', 'law', 'lawyer', 'lawyers', 'lead', 'leader', 'leaders', 'least', 'led', 'legal', 'like', 'likely', 'loath', 'lobbying', 'long', 'longer', 'look', 'looking', 'lot', 'love', 'loyal', 'loyalty', 'made', 'mainstream', 'make', 'makes', 'manafort', 'manigault', 'marie', 'marked', 'mccain', 'mcdougal', 'meeting', 'member', 'memorial', 'mention', 'met', 'mexico', 'michael', 'midst', 'midterm', 'midterms', 'might', 'mike', 'military', 'minister', 'misdemeanor', 'model', 'moment', 'moments', 'month', 'months', 'more', 'most', 'moving', 'much', 'mueller', 'multilateral', 'named', 'national', 'negotiating', 'neil', 'never', 'new', 'newman', 'next', 'no', 'nominee', 'nonviolent', 'north', 'not', 'notable', 'note', 'november', 'now', 'nuclear', 'nucleus', 'number', 'obama', 'of', 'off', 'offender', 'office', 'officials', 'often', 'old', 'omarosa', 'on', 'once', 'one', 'ones', 'ongoing', 'oppose', 'or', 'orders', 'organization', 'ostracized', 'other', 'out', 'outcry', 'outpouring', 'outsider', 'over', 'own', 'owns', 'pardon', 'pardoned', 'pardoning', 'pardons', 'parents', 'part', 'particularly', 'paul', 'payments', 'payoffs', 'pecker', 'pentagon', 'people', 'perks', 'personal', 'planned', 'playboy', 'pleads', 'pleas', 'plenty', 'points', 'policies', 'policy', 'political', 'politics', 'pompeo', 'porn', 'possibility', 'power', 'premature', 'president', 'presidents', 'pressure', 'pretty', 'prime', 'private', 'prizes', 'probably', 'probe', 'problem', 'promised', 'pronounced', 'protection', 'proved', 'pruitt', 'public', 'putin', 'question', 'questions', 'rat', 'real', 'recently', 'referring', 'remains', 'remember', 'repeatedly', 'replacement', 'reports', 'republican', 'reshape', 'resigned', 'resistance', 'respect', 'resulted', 'retaliations', 'return', 'risk', 'roar', 'robert', 'role', 'rolling', 'rudy', 'rushed', 'russia', 'russian', 'russians', 'sack', 'said', 'sat', 'saw', 'say', 'says', 'scope', 'scott', 'scratching', 'second', 'secretary', 'security', 'see', 'seeking', 'seeks', 'seem', 'seemed', 'seems', 'seen', 'self', 'sell', 'sen', 'senate', 'sentence', 'separated', 'separation', 'september', 'series', 'shaking', 'she', 'should', 'show', 'showed', 'shown', 'side', 'signature', 'since', 'situational', 'so', 'some', 'south', 'souza', 'spat', 'special', 'spikes', 'spokesman', 'spring', 'staffer', 'staffing', 'stakes', 'stall', 'stalled', 'standing', 'standoff', 'star', 'start', 'started', 'state', 'stay', 'stayed', 'step', 'steppingstone', 'still', 'stood', 'story', 'strategy', 'strident', 'string', 'strong', 'successful', 'successive', 'summer', 'summit', 'supposition', 'supreme', 'sure', 'survived', 'table', 'taken', 'taking', 'talk', 'talking', 'talks', 'tape', 'targeted', 'tariffs', 'task', 'tax', 'temporary', 'tension', 'testament', 'than', 'that', 'the', 'their', 'there', 'these', 'they', 'thing', 'things', 'thinks', 'this', 'those', 'threat', 'through', 'throughout', 'time', 'to', 'tolerance', 'took', 'top', 'trade', 'train', 'trial', 'tried', 'trip', 'trudeau', 'trump', 'trying', 'twitter', 'ultimately', 'un', 'unanimously', 'unapologetic', 'unaware', 'unbelievable', 'undocumented', 'unilateral', 'unindicted', 'united', 'unlike', 'unlikely', 'unrelated', 'unresolved', 'until', 'unveiled', 'unwinder', 'up', 'upended', 'upon', 'upper', 'us', 'valid', 'verdicts', 'virginia', 'vladimir', 'vocal', 'voters', 'war', 'wars', 'was', 'washington', 'way', 'we', 'weakness', 'week', 'well', 'were', 'what', 'when', 'where', 'whether', 'which', 'while', 'white', 'who', 'whom', 'why', 'will', 'witch', 'with', 'withdraws', 'woken', 'won', 'work', 'working', 'worse', 'would', 'wrap', 'wreck', 'wrecks', 'year', 'years', 'yet', 'you', 'young', 'yourself', 'zero']\n",
      "[[0 0 0 ... 0 0 0]\n",
      " [0 0 0 ... 0 0 0]\n",
      " [0 0 0 ... 0 0 0]\n",
      " ...\n",
      " [0 0 0 ... 0 0 0]\n",
      " [0 0 0 ... 0 0 0]\n",
      " [0 0 0 ... 0 0 0]]\n"
     ]
    }
   ],
   "source": [
    "print(feature_name)\n",
    "print(X.toarray())"
   ]
  },
  {
   "cell_type": "markdown",
   "metadata": {},
   "source": [
    "但是一篇文章使用的詞彙量較多，無法完整呈現不同詞彙用量的多寡"
   ]
  },
  {
   "cell_type": "markdown",
   "metadata": {},
   "source": [
    "### 因此下一個階段希望就幾個面向做改進\n",
    "1. 做出簡單的表格能明顯看出一篇文章中用字量較高的幾個單字\n",
    "2. 能篩選掉幾個一定是常用詞的單字，例如主詞、介系詞等，才能有效取得與文章內文關聯度較高的單字"
   ]
  }
 ],
 "metadata": {
  "kernelspec": {
   "display_name": "Python 3",
   "language": "python",
   "name": "python3"
  },
  "language_info": {
   "codemirror_mode": {
    "name": "ipython",
    "version": 3
   },
   "file_extension": ".py",
   "mimetype": "text/x-python",
   "name": "python",
   "nbconvert_exporter": "python",
   "pygments_lexer": "ipython3",
   "version": "3.6.0"
  }
 },
 "nbformat": 4,
 "nbformat_minor": 2
}
